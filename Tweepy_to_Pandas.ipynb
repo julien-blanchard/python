{
  "nbformat": 4,
  "nbformat_minor": 0,
  "metadata": {
    "colab": {
      "name": "Tweepy to Pandas.ipynb",
      "provenance": [],
      "collapsed_sections": []
    },
    "kernelspec": {
      "name": "python3",
      "display_name": "Python 3"
    }
  },
  "cells": [
    {
      "cell_type": "markdown",
      "metadata": {
        "id": "pGyeJt-XkQkM"
      },
      "source": [
        "# **From Tweepy to Pandas**\n",
        "\n",
        "A simple way to use Tweepy, scrape anybody's tweets, and pass them into a Pandas dataframe."
      ]
    },
    {
      "cell_type": "markdown",
      "metadata": {
        "id": "NTWNsDaVkk9Q"
      },
      "source": [
        "# Modules"
      ]
    },
    {
      "cell_type": "code",
      "metadata": {
        "id": "PEf7vMsYkL-K"
      },
      "source": [
        "# importing our modules\n",
        "import pandas as pd\n",
        "import tweepy\n",
        "import numpy as np"
      ],
      "execution_count": null,
      "outputs": []
    },
    {
      "cell_type": "markdown",
      "metadata": {
        "id": "sHgqq3Pmkx2O"
      },
      "source": [
        "# Authenticating"
      ]
    },
    {
      "cell_type": "code",
      "metadata": {
        "id": "7kn_RODNk28r"
      },
      "source": [
        "# adding in your credentials\n",
        "twitter_keys = {\n",
        "        'consumer_key':        'add your consumer key here',\n",
        "        'consumer_secret':     'add your consumer secret here',\n",
        "        'access_token_key':    'add your access token key here',\n",
        "        'access_token_secret': 'add your access token secret here'\n",
        "               }\n",
        "\n",
        "# setting up access to the API\n",
        "auth = tweepy.OAuthHandler(twitter_keys['consumer_key'], twitter_keys['consumer_secret'])\n",
        "auth.set_access_token(twitter_keys['access_token_key'], twitter_keys['access_token_secret'])\n",
        "api = tweepy.API(auth, wait_on_rate_limit=True)"
      ],
      "execution_count": null,
      "outputs": []
    },
    {
      "cell_type": "markdown",
      "metadata": {
        "id": "QAkUN_bUkrrc"
      },
      "source": [
        "# Scraping"
      ]
    },
    {
      "cell_type": "code",
      "metadata": {
        "id": "xfwg9-BclP1x"
      },
      "source": [
        "# afaik, it's currently not possible to get more than the last 200 tweets\n",
        "twitter_account = tweepy.Cursor(api.user_timeline, screen_name='@the_twitter_account_you_want_to_scrape', tweet_mode=\"extended\").items(200)"
      ],
      "execution_count": null,
      "outputs": []
    },
    {
      "cell_type": "code",
      "metadata": {
        "id": "1Mgd578ilmR7"
      },
      "source": [
        "# creating a function to get the main attributes and pass them into a dataframe\n",
        "def make_dataframe(twitter_account):\n",
        "    # creating an empty list\n",
        "    tweet_list = []\n",
        "    # loop through the twitter account we want to scrape\n",
        "    for t in twitter_account:\n",
        "        id = t.id\n",
        "        tweet = t.full_text\n",
        "        favorite_count = t.favorite_count\n",
        "        retweet_count = t.retweet_count\n",
        "        created_at = t.created_at\n",
        "        source = t.source\n",
        "        # append attributes to list\n",
        "        tweet_list.append({'id':id,'tweet':tweet,'favorite_count':favorite_count,'retweet_count':retweet_count,'created_at':created_at,'source':source})\n",
        "    # passing all this to a dataframe   \n",
        "    df = pd.DataFrame(tweet_list, columns=['id','tweet','favorite_count','retweet_count','created_at','source'])\n",
        "    return df"
      ],
      "execution_count": null,
      "outputs": []
    },
    {
      "cell_type": "code",
      "metadata": {
        "id": "pjLTl2Djm0mM"
      },
      "source": [
        "# using the function we just defined to create a dataframe\n",
        "df = extract_tweet_attributes(twitter_account)"
      ],
      "execution_count": null,
      "outputs": []
    }
  ]
}